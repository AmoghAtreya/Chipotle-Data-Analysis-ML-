{
 "cells": [
  {
   "cell_type": "markdown",
   "id": "520da1bd",
   "metadata": {},
   "source": [
    "\n",
    "Importing necessary libraries for data analysis and visualization.\n"
   ]
  },
  {
   "cell_type": "code",
   "execution_count": 8,
   "id": "68b2861c",
   "metadata": {},
   "outputs": [],
   "source": [
    "\n",
    "import pandas as pd\n",
    "import matplotlib.pyplot as plt\n"
   ]
  },
  {
   "cell_type": "markdown",
   "id": "f5222a9c",
   "metadata": {},
   "source": [
    "\n",
    "Loading the Chipotle dataset from the CSV file.\n"
   ]
  },
  {
   "cell_type": "code",
   "execution_count": 9,
   "id": "1d78e01c",
   "metadata": {},
   "outputs": [
    {
     "data": {
      "text/html": [
       "<div>\n",
       "<style scoped>\n",
       "    .dataframe tbody tr th:only-of-type {\n",
       "        vertical-align: middle;\n",
       "    }\n",
       "\n",
       "    .dataframe tbody tr th {\n",
       "        vertical-align: top;\n",
       "    }\n",
       "\n",
       "    .dataframe thead th {\n",
       "        text-align: right;\n",
       "    }\n",
       "</style>\n",
       "<table border=\"1\" class=\"dataframe\">\n",
       "  <thead>\n",
       "    <tr style=\"text-align: right;\">\n",
       "      <th></th>\n",
       "      <th>order_id</th>\n",
       "      <th>quantity</th>\n",
       "      <th>item_name</th>\n",
       "      <th>choice_description</th>\n",
       "      <th>item_price</th>\n",
       "    </tr>\n",
       "  </thead>\n",
       "  <tbody>\n",
       "    <tr>\n",
       "      <th>0</th>\n",
       "      <td>1</td>\n",
       "      <td>1</td>\n",
       "      <td>Chips and Fresh Tomato Salsa</td>\n",
       "      <td>NaN</td>\n",
       "      <td>$2.39</td>\n",
       "    </tr>\n",
       "    <tr>\n",
       "      <th>1</th>\n",
       "      <td>1</td>\n",
       "      <td>1</td>\n",
       "      <td>Izze</td>\n",
       "      <td>[Clementine]</td>\n",
       "      <td>$3.39</td>\n",
       "    </tr>\n",
       "    <tr>\n",
       "      <th>2</th>\n",
       "      <td>1</td>\n",
       "      <td>1</td>\n",
       "      <td>Nantucket Nectar</td>\n",
       "      <td>[Apple]</td>\n",
       "      <td>$3.39</td>\n",
       "    </tr>\n",
       "    <tr>\n",
       "      <th>3</th>\n",
       "      <td>1</td>\n",
       "      <td>1</td>\n",
       "      <td>Chips and Tomatillo-Green Chili Salsa</td>\n",
       "      <td>NaN</td>\n",
       "      <td>$2.39</td>\n",
       "    </tr>\n",
       "    <tr>\n",
       "      <th>4</th>\n",
       "      <td>2</td>\n",
       "      <td>2</td>\n",
       "      <td>Chicken Bowl</td>\n",
       "      <td>[Tomatillo-Red Chili Salsa (Hot), [Black Beans...</td>\n",
       "      <td>$16.98</td>\n",
       "    </tr>\n",
       "  </tbody>\n",
       "</table>\n",
       "</div>"
      ],
      "text/plain": [
       "   order_id  quantity                              item_name  \\\n",
       "0         1         1           Chips and Fresh Tomato Salsa   \n",
       "1         1         1                                   Izze   \n",
       "2         1         1                       Nantucket Nectar   \n",
       "3         1         1  Chips and Tomatillo-Green Chili Salsa   \n",
       "4         2         2                           Chicken Bowl   \n",
       "\n",
       "                                  choice_description item_price  \n",
       "0                                                NaN     $2.39   \n",
       "1                                       [Clementine]     $3.39   \n",
       "2                                            [Apple]     $3.39   \n",
       "3                                                NaN     $2.39   \n",
       "4  [Tomatillo-Red Chili Salsa (Hot), [Black Beans...    $16.98   "
      ]
     },
     "execution_count": 9,
     "metadata": {},
     "output_type": "execute_result"
    }
   ],
   "source": [
    "\n",
    "file_path = 'chipotle.csv' \n",
    "chipotle_data = pd.read_csv(file_path, delimiter='\\t')\n",
    "chipotle_data.head()\n"
   ]
  },
  {
   "cell_type": "markdown",
   "id": "c2d5a8da",
   "metadata": {},
   "source": [
    "Converting the parameter \"item_price\" from a string to a numerical format + handling missing values in the dataset\n"
   ]
  },
  {
   "cell_type": "code",
   "execution_count": 10,
   "id": "6ae611b1",
   "metadata": {},
   "outputs": [],
   "source": [
    "\n",
    "chipotle_data['item_price'] = chipotle_data['item_price'].str.replace('$', '').astype(float)\n"
   ]
  },
  {
   "cell_type": "markdown",
   "id": "87188f14",
   "metadata": {},
   "source": [
    "\n",
    "Calculating the total order count and total sales for each item.\n"
   ]
  },
  {
   "cell_type": "code",
   "execution_count": 11,
   "id": "71132845",
   "metadata": {},
   "outputs": [
    {
     "data": {
      "text/html": [
       "<div>\n",
       "<style scoped>\n",
       "    .dataframe tbody tr th:only-of-type {\n",
       "        vertical-align: middle;\n",
       "    }\n",
       "\n",
       "    .dataframe tbody tr th {\n",
       "        vertical-align: top;\n",
       "    }\n",
       "\n",
       "    .dataframe thead th {\n",
       "        text-align: right;\n",
       "    }\n",
       "</style>\n",
       "<table border=\"1\" class=\"dataframe\">\n",
       "  <thead>\n",
       "    <tr style=\"text-align: right;\">\n",
       "      <th></th>\n",
       "      <th>item_name</th>\n",
       "      <th>Total_Orders</th>\n",
       "      <th>Total_Sales</th>\n",
       "    </tr>\n",
       "  </thead>\n",
       "  <tbody>\n",
       "    <tr>\n",
       "      <th>17</th>\n",
       "      <td>Chicken Bowl</td>\n",
       "      <td>761</td>\n",
       "      <td>7342.73</td>\n",
       "    </tr>\n",
       "    <tr>\n",
       "      <th>18</th>\n",
       "      <td>Chicken Burrito</td>\n",
       "      <td>591</td>\n",
       "      <td>5575.82</td>\n",
       "    </tr>\n",
       "    <tr>\n",
       "      <th>39</th>\n",
       "      <td>Steak Burrito</td>\n",
       "      <td>386</td>\n",
       "      <td>3851.43</td>\n",
       "    </tr>\n",
       "    <tr>\n",
       "      <th>38</th>\n",
       "      <td>Steak Bowl</td>\n",
       "      <td>221</td>\n",
       "      <td>2260.19</td>\n",
       "    </tr>\n",
       "    <tr>\n",
       "      <th>25</th>\n",
       "      <td>Chips and Guacamole</td>\n",
       "      <td>506</td>\n",
       "      <td>2201.04</td>\n",
       "    </tr>\n",
       "  </tbody>\n",
       "</table>\n",
       "</div>"
      ],
      "text/plain": [
       "              item_name  Total_Orders  Total_Sales\n",
       "17         Chicken Bowl           761      7342.73\n",
       "18      Chicken Burrito           591      5575.82\n",
       "39        Steak Burrito           386      3851.43\n",
       "38           Steak Bowl           221      2260.19\n",
       "25  Chips and Guacamole           506      2201.04"
      ]
     },
     "execution_count": 11,
     "metadata": {},
     "output_type": "execute_result"
    }
   ],
   "source": [
    "\n",
    "sales_analysis = chipotle_data.groupby('item_name').agg(\n",
    "    Total_Orders=pd.NamedAgg(column='quantity', aggfunc='sum'),\n",
    "    Total_Sales=pd.NamedAgg(column='item_price', aggfunc='sum')\n",
    ").reset_index().sort_values(by='Total_Sales', ascending=False)\n",
    "\n",
    "sales_analysis.head()\n"
   ]
  },
  {
   "cell_type": "markdown",
   "id": "7603d1b9",
   "metadata": {},
   "source": [
    "\n",
    "Customer Preference Analysis: \n",
    "Analyzing of choices for the most popular items (Eg: toppings in the food).\n"
   ]
  },
  {
   "cell_type": "code",
   "execution_count": 12,
   "id": "297eaa2f",
   "metadata": {},
   "outputs": [
    {
     "data": {
      "text/plain": [
       "item_name     choice_description                                                               \n",
       "Chicken Bowl  [Fresh Tomato Salsa, [Fajita Vegetables, Rice]]                                      17\n",
       "              [Fresh Tomato Salsa, [Rice, Black Beans, Cheese, Sour Cream, Guacamole, Lettuce]]    14\n",
       "              [Fresh Tomato Salsa, [Rice, Black Beans, Cheese, Sour Cream, Lettuce]]               14\n",
       "              [Fresh Tomato Salsa, [Rice, Black Beans, Cheese]]                                    13\n",
       "              [Fresh Tomato Salsa, [Rice, Cheese, Lettuce]]                                        13\n",
       "              [Fresh Tomato Salsa, [Rice, Cheese, Sour Cream, Lettuce]]                            13\n",
       "              [Tomatillo Green Chili Salsa, [Rice, Pinto Beans, Sour Cream, Lettuce]]              12\n",
       "              [Fresh Tomato Salsa, [Rice, Black Beans, Cheese, Sour Cream]]                        11\n",
       "              [Fresh Tomato Salsa, [Fajita Vegetables, Rice, Lettuce]]                             10\n",
       "              [Fresh Tomato Salsa, [Rice, Cheese, Sour Cream]]                                     10\n",
       "Name: count, dtype: int64"
      ]
     },
     "execution_count": 12,
     "metadata": {},
     "output_type": "execute_result"
    }
   ],
   "source": [
    "\n",
    "popular_items = sales_analysis.head(5)['item_name']\n",
    "chipotle_data[chipotle_data['item_name'].isin(popular_items)].groupby('item_name')['choice_description'].value_counts().head(10)\n"
   ]
  },
  {
   "cell_type": "markdown",
   "id": "4760bb41",
   "metadata": {},
   "source": [
    "Finding the relationship between Item Price and the Quantity Ordered"
   ]
  },
  {
   "cell_type": "code",
   "execution_count": 15,
   "id": "df25f9cd",
   "metadata": {},
   "outputs": [
    {
     "data": {
      "image/png": "[encoded data removed]",
      "text/plain": [
       "<Figure size 640x480 with 1 Axes>"
      ]
     },
     "metadata": {},
     "output_type": "display_data"
    }
   ],
   "source": [
    "\n",
    "plt.scatter(chipotle_data['item_price'], chipotle_data['quantity'])\n",
    "plt.xlabel('Item Price')\n",
    "plt.ylabel('Quantity Ordered')\n",
    "plt.title('Price vs Quantity Ordered')\n",
    "plt.show()\n"
   ]
  },
  {
   "cell_type": "markdown",
   "id": "262767fd",
   "metadata": {},
   "source": [
    "Predict total quantity of items likely going to be ordered by a customer (based on item features + characteristics)\n"
   ]
  },
  {
   "cell_type": "code",
   "execution_count": 16,
   "id": "476fc34f",
   "metadata": {},
   "outputs": [
    {
     "data": {
      "image/png": "[encoded data removed]",
      "text/plain": [
       "<Figure size 640x480 with 1 Axes>"
      ]
     },
     "metadata": {},
     "output_type": "display_data"
    },
    {
     "data": {
      "text/plain": [
       "\"\\nThe scatter plot with the linear regression line, showing the relationship between item price and quantity ordered, provides several valuable insights for the company:\\n\\n1. **Understanding Customer Behavior**: The plot reveals how customers' order quantities vary with the price of items. For instance, if most orders cluster around lower-priced items, it might indicate price sensitivity among customers.\\n\\n2. **Pricing Strategy**: By observing the distribution of orders across different price points, the company can assess the effectiveness of its pricing strategy. If higher-priced items have significantly fewer orders, it might suggest the need for pricing adjustments or promotions.\\n\\n3. **Product Portfolio Management**: The visualization can help identify which price ranges are most popular among customers. This information can guide decisions on which items to promote more heavily or which new products to introduce.\\n\\n4. **Demand Forecasting**: Understanding the relationship between price and quantity can assist in predicting future demand for products, aiding in inventory management and supply chain optimization.\\n\\n5. **Marketing and Promotions**: Insights from the plot can inform marketing strategies. For example, if certain price points are more popular, marketing efforts can be tailored to highlight items within these ranges.\\n\\n6. **Revenue Optimization**: By analyzing how changes in prices impact order quantities, the company can make data-driven decisions to optimize revenue. For example, slight increases in prices may not significantly affect the quantity ordered, leading to higher revenue without losing customers.\\n\\n7. **Model Limitations and Business Decisions**: The simplicity of the model and any visible discrepancies between the model's predictions and actual data points highlight the complexity of customer behavior. This recognition can drive further analysis and the development of more sophisticated models.\\n\\nIn summary, this analysis helps the company understand the dynamics of customer orders in relation to pricing, providing a foundation for informed decision-making in various business areas, including marketing, pricing strategy, product management, and supply chain operations.\\n\""
      ]
     },
     "execution_count": 16,
     "metadata": {},
     "output_type": "execute_result"
    }
   ],
   "source": [
    "\n",
    "from sklearn.linear_model import LinearRegression\n",
    "from sklearn.model_selection import train_test_split\n",
    "import matplotlib.pyplot as plt\n",
    "\n",
    "# 'order_data'-> features and 'order_quantity' -> target\n",
    "order_data = chipotle_data[['item_price']]\n",
    "order_quantity = chipotle_data['quantity']\n",
    "\n",
    "# Training the Linear Regression model\n",
    "lin_reg = LinearRegression()\n",
    "lin_reg.fit(order_data, order_quantity)\n",
    "\n",
    "X_train, X_test, y_train, y_test = train_test_split(order_data, order_quantity, test_size=0.2, random_state=42)\n",
    "\n",
    "y_pred = lin_reg.predict(X_test)\n",
    "\n",
    "\n",
    "plt.scatter(X_train, y_train, color='blue', label='Training data')\n",
    "plt.scatter(X_test, y_test, color='red', label='Test data')\n",
    "plt.plot(X_test, y_pred, color='green', label='Linear regression line')\n",
    "plt.xlabel('Item Price')\n",
    "plt.ylabel('Quantity Ordered')\n",
    "plt.title('Item Price vs Quantity Ordered')\n",
    "plt.legend()\n",
    "plt.show()\n",
    "\n",
    "\"\"\"\n",
    "The scatter plot with the linear regression line, showing the relationship between item price and quantity ordered, provides several valuable insights for the company:\n",
    "\n",
    "1. **Understanding Customer Behavior**: The plot reveals how customers' order quantities vary with the price of items. For instance, if most orders cluster around lower-priced items, it might indicate price sensitivity among customers.\n",
    "\n",
    "2. **Pricing Strategy**: By observing the distribution of orders across different price points, the company can assess the effectiveness of its pricing strategy. If higher-priced items have significantly fewer orders, it might suggest the need for pricing adjustments or promotions.\n",
    "\n",
    "3. **Product Portfolio Management**: The visualization can help identify which price ranges are most popular among customers. This information can guide decisions on which items to promote more heavily or which new products to introduce.\n",
    "\n",
    "4. **Demand Forecasting**: Understanding the relationship between price and quantity can assist in predicting future demand for products, aiding in inventory management and supply chain optimization.\n",
    "\n",
    "5. **Marketing and Promotions**: Insights from the plot can inform marketing strategies. For example, if certain price points are more popular, marketing efforts can be tailored to highlight items within these ranges.\n",
    "\n",
    "6. **Revenue Optimization**: By analyzing how changes in prices impact order quantities, the company can make data-driven decisions to optimize revenue. For example, slight increases in prices may not significantly affect the quantity ordered, leading to higher revenue without losing customers.\n",
    "\n",
    "7. **Model Limitations and Business Decisions**: The simplicity of the model and any visible discrepancies between the model's predictions and actual data points highlight the complexity of customer behavior. This recognition can drive further analysis and the development of more sophisticated models.\n",
    "\n",
    "In summary, this analysis helps the company understand the dynamics of customer orders in relation to pricing, providing a foundation for informed decision-making in various business areas, including marketing, pricing strategy, product management, and supply chain operations.\n",
    "\"\"\""
   ]
  }
 ],
 "metadata": {
  "kernelspec": {
   "display_name": "Python 3",
   "language": "python",
   "name": "python3"
  },
  "language_info": {
   "codemirror_mode": {
    "name": "ipython",
    "version": 3
   },
   "file_extension": ".py",
   "mimetype": "text/x-python",
   "name": "python",
   "nbconvert_exporter": "python",
   "pygments_lexer": "ipython3",
   "version": "3.10.4"
  }
 },
 "nbformat": 4,
 "nbformat_minor": 5
}
